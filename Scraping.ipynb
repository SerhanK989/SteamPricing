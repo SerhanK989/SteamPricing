{
 "cells": [
  {
   "cell_type": "code",
   "execution_count": 2,
   "metadata": {},
   "outputs": [],
   "source": [
    "import json\n",
    "import requests\n",
    "import urllib\n",
    "from bs4 import BeautifulSoup\n",
    "import os\n",
    "import xml.etree.ElementTree as ET\n",
    "import time\n",
    "import pickle"
   ]
  },
  {
   "cell_type": "code",
   "execution_count": 3,
   "metadata": {},
   "outputs": [],
   "source": [
    "def single_query(link, payload):\n",
    "    response = requests.get(link, params=payload)\n",
    "    if response.status_code != 200:\n",
    "        print('WARNING', response.status_code)\n",
    "    else:\n",
    "        return response"
   ]
  },
  {
   "cell_type": "code",
   "execution_count": 4,
   "metadata": {},
   "outputs": [],
   "source": [
    "getListURL = 'https://api.steampowered.com/ISteamApps/GetAppList/v2/'\n",
    "getListPayload = {}"
   ]
  },
  {
   "cell_type": "code",
   "execution_count": 5,
   "metadata": {},
   "outputs": [],
   "source": [
    "allApps = single_query(getListURL, getListPayload)"
   ]
  },
  {
   "cell_type": "code",
   "execution_count": 6,
   "metadata": {},
   "outputs": [
    {
     "data": {
      "text/plain": [
       "'{\"applist\":{\"apps\":[{\"appid\":403810,\"name\":\"Molly\"},{\"appid\":403830,\"name\":\"The Consuming Shadow\"},{'"
      ]
     },
     "execution_count": 6,
     "metadata": {},
     "output_type": "execute_result"
    }
   ],
   "source": [
    "allApps.text[0:100]"
   ]
  },
  {
   "cell_type": "code",
   "execution_count": 7,
   "metadata": {},
   "outputs": [],
   "source": [
    "allAppsJson = allApps.json()"
   ]
  },
  {
   "cell_type": "code",
   "execution_count": 8,
   "metadata": {},
   "outputs": [],
   "source": [
    "allIds = allAppsJson['applist']['apps']"
   ]
  },
  {
   "cell_type": "code",
   "execution_count": 9,
   "metadata": {},
   "outputs": [
    {
     "data": {
      "text/plain": [
       "94989"
      ]
     },
     "execution_count": 9,
     "metadata": {},
     "output_type": "execute_result"
    }
   ],
   "source": [
    "len(allIds)"
   ]
  },
  {
   "cell_type": "code",
   "execution_count": 12,
   "metadata": {},
   "outputs": [],
   "source": [
    "getAppIDUrl = 'http://store.steampowered.com/api/appdetails'"
   ]
  },
  {
   "cell_type": "code",
   "execution_count": 13,
   "metadata": {},
   "outputs": [
    {
     "name": "stdout",
     "output_type": "stream",
     "text": [
      "a\n",
      "b\n"
     ]
    }
   ],
   "source": [
    "usecols = ['name', 'required_age', 'is_free', 'developers', 'publishers', 'platforms', 'genres', 'pc_requirements', 'release_date', 'price_overview']"
   ]
  },
  {
   "cell_type": "code",
   "execution_count": 23,
   "metadata": {},
   "outputs": [],
   "source": [
    "Id0 = allIds[1]['appid']"
   ]
  },
  {
   "cell_type": "code",
   "execution_count": 24,
   "metadata": {},
   "outputs": [
    {
     "name": "stdout",
     "output_type": "stream",
     "text": [
      "403830\n"
     ]
    }
   ],
   "source": [
    "print(Id0)"
   ]
  },
  {
   "cell_type": "code",
   "execution_count": 25,
   "metadata": {},
   "outputs": [],
   "source": [
    "resp =  single_query(getAppIDUrl, {'appids': Id0})"
   ]
  },
  {
   "cell_type": "code",
   "execution_count": 26,
   "metadata": {},
   "outputs": [
    {
     "data": {
      "text/plain": [
       "{'type': 'game',\n",
       " 'name': 'The Consuming Shadow',\n",
       " 'steam_appid': 403830,\n",
       " 'required_age': 0,\n",
       " 'is_free': False,\n",
       " 'controller_support': 'full',\n",
       " 'detailed_description': \"The Consuming Shadow is a procedural survival horror adventure in which you must explore the land, fight your way through randomly-generated dungeons and try to stay sane in your quest to save the world from the invading Ancients. The new Insanity Edition for Steam introduces new modes and features for even more expanded gameplay.<br />\\r\\n<br />\\r\\n- Roguelike perma-death gameplay<br />\\r\\n<br />\\r\\n- 4 playable characters to find and unlock, each with a different play style<br />\\r\\n<br />\\r\\n- 6 dungeon types, 10 mission types, and countless random encounters<br />\\r\\n<br />\\r\\n- 20 different monsters to discover and fight<br />\\r\\n<br />\\r\\n- Learn the 8 magic spells to gain the upper hand<br />\\r\\n<br />\\r\\n- Complete the bestiary and gather collectibles to uncover the world's lore<br />\\r\\n<br />\\r\\n- Insanity Edition adds special challenge modes, including Daily Challenges and 'The Descent' infinite dungeon\",\n",
       " 'about_the_game': \"The Consuming Shadow is a procedural survival horror adventure in which you must explore the land, fight your way through randomly-generated dungeons and try to stay sane in your quest to save the world from the invading Ancients. The new Insanity Edition for Steam introduces new modes and features for even more expanded gameplay.<br />\\r\\n<br />\\r\\n- Roguelike perma-death gameplay<br />\\r\\n<br />\\r\\n- 4 playable characters to find and unlock, each with a different play style<br />\\r\\n<br />\\r\\n- 6 dungeon types, 10 mission types, and countless random encounters<br />\\r\\n<br />\\r\\n- 20 different monsters to discover and fight<br />\\r\\n<br />\\r\\n- Learn the 8 magic spells to gain the upper hand<br />\\r\\n<br />\\r\\n- Complete the bestiary and gather collectibles to uncover the world's lore<br />\\r\\n<br />\\r\\n- Insanity Edition adds special challenge modes, including Daily Challenges and 'The Descent' infinite dungeon\",\n",
       " 'short_description': 'The Consuming Shadow is a procedural survival horror adventure in which you must explore the land, fight your way through randomly-generated dungeons and try to stay sane in your quest to save the world from the invading Ancients.',\n",
       " 'supported_languages': 'English',\n",
       " 'header_image': 'https://steamcdn-a.akamaihd.net/steam/apps/403830/header.jpg?t=1448084885',\n",
       " 'website': 'http://www.theconsumingshadow.com',\n",
       " 'pc_requirements': {'minimum': '<strong>Minimum:</strong><br><ul class=\"bb_ul\"><li><strong>OS:</strong> Windows 7 or up<br></li><li><strong>Processor:</strong> Inter Core i3 or up<br></li><li><strong>Memory:</strong> 4 GB RAM<br></li><li><strong>Graphics:</strong> Intel integrated graphics or up<br></li><li><strong>Storage:</strong> 60 MB available space</li></ul>'},\n",
       " 'mac_requirements': [],\n",
       " 'linux_requirements': [],\n",
       " 'developers': [\"Ben 'Yahtzee' Croshaw\"],\n",
       " 'publishers': [\"Ben 'Yahtzee' Croshaw\"],\n",
       " 'price_overview': {'currency': 'USD',\n",
       "  'initial': 999,\n",
       "  'final': 999,\n",
       "  'discount_percent': 0,\n",
       "  'initial_formatted': '',\n",
       "  'final_formatted': '$9.99'},\n",
       " 'packages': [79043],\n",
       " 'package_groups': [{'name': 'default',\n",
       "   'title': 'Buy The Consuming Shadow',\n",
       "   'description': '',\n",
       "   'selection_text': 'Select a purchase option',\n",
       "   'save_text': '',\n",
       "   'display_type': 0,\n",
       "   'is_recurring_subscription': 'false',\n",
       "   'subs': [{'packageid': 79043,\n",
       "     'percent_savings_text': '',\n",
       "     'percent_savings': 0,\n",
       "     'option_text': 'The Consuming Shadow - $9.99',\n",
       "     'option_description': '',\n",
       "     'can_get_free_license': '0',\n",
       "     'is_free_license': False,\n",
       "     'price_in_cents_with_discount': 999}]}],\n",
       " 'platforms': {'windows': True, 'mac': False, 'linux': False},\n",
       " 'categories': [{'id': 2, 'description': 'Single-player'},\n",
       "  {'id': 22, 'description': 'Steam Achievements'},\n",
       "  {'id': 28, 'description': 'Full controller support'},\n",
       "  {'id': 29, 'description': 'Steam Trading Cards'},\n",
       "  {'id': 15, 'description': 'Stats'}],\n",
       " 'genres': [{'id': '25', 'description': 'Adventure'}],\n",
       " 'screenshots': [{'id': 0,\n",
       "   'path_thumbnail': 'https://steamcdn-a.akamaihd.net/steam/apps/403830/ss_188cd29998a0f0750051b7245c650a68e9f3c101.600x338.jpg?t=1448084885',\n",
       "   'path_full': 'https://steamcdn-a.akamaihd.net/steam/apps/403830/ss_188cd29998a0f0750051b7245c650a68e9f3c101.1920x1080.jpg?t=1448084885'},\n",
       "  {'id': 1,\n",
       "   'path_thumbnail': 'https://steamcdn-a.akamaihd.net/steam/apps/403830/ss_2c6eb5350cd7a3c9a2cfabe450597cb1cbbb7866.600x338.jpg?t=1448084885',\n",
       "   'path_full': 'https://steamcdn-a.akamaihd.net/steam/apps/403830/ss_2c6eb5350cd7a3c9a2cfabe450597cb1cbbb7866.1920x1080.jpg?t=1448084885'},\n",
       "  {'id': 2,\n",
       "   'path_thumbnail': 'https://steamcdn-a.akamaihd.net/steam/apps/403830/ss_a4cc71bfb840798f8707d0c3f3ec7191c1c94c82.600x338.jpg?t=1448084885',\n",
       "   'path_full': 'https://steamcdn-a.akamaihd.net/steam/apps/403830/ss_a4cc71bfb840798f8707d0c3f3ec7191c1c94c82.1920x1080.jpg?t=1448084885'},\n",
       "  {'id': 3,\n",
       "   'path_thumbnail': 'https://steamcdn-a.akamaihd.net/steam/apps/403830/ss_ccf01fe1c9004ff52dce5586bafb7afbe2a21902.600x338.jpg?t=1448084885',\n",
       "   'path_full': 'https://steamcdn-a.akamaihd.net/steam/apps/403830/ss_ccf01fe1c9004ff52dce5586bafb7afbe2a21902.1920x1080.jpg?t=1448084885'},\n",
       "  {'id': 4,\n",
       "   'path_thumbnail': 'https://steamcdn-a.akamaihd.net/steam/apps/403830/ss_91131297b6a6d067d93626a14cd7b37edf3b7b9b.600x338.jpg?t=1448084885',\n",
       "   'path_full': 'https://steamcdn-a.akamaihd.net/steam/apps/403830/ss_91131297b6a6d067d93626a14cd7b37edf3b7b9b.1920x1080.jpg?t=1448084885'},\n",
       "  {'id': 5,\n",
       "   'path_thumbnail': 'https://steamcdn-a.akamaihd.net/steam/apps/403830/ss_2d4be55f0ba86cf2384e0eb266906d91ebc8357d.600x338.jpg?t=1448084885',\n",
       "   'path_full': 'https://steamcdn-a.akamaihd.net/steam/apps/403830/ss_2d4be55f0ba86cf2384e0eb266906d91ebc8357d.1920x1080.jpg?t=1448084885'},\n",
       "  {'id': 6,\n",
       "   'path_thumbnail': 'https://steamcdn-a.akamaihd.net/steam/apps/403830/ss_c71d08047b25c20b3837ad0e1a86bada2d0f5cbf.600x338.jpg?t=1448084885',\n",
       "   'path_full': 'https://steamcdn-a.akamaihd.net/steam/apps/403830/ss_c71d08047b25c20b3837ad0e1a86bada2d0f5cbf.1920x1080.jpg?t=1448084885'}],\n",
       " 'movies': [{'id': 256657159,\n",
       "   'name': 'The Consuming Shadow launch trailer',\n",
       "   'thumbnail': 'https://steamcdn-a.akamaihd.net/steam/apps/256657159/movie.293x165.jpg?t=1447754699',\n",
       "   'webm': {'480': 'http://steamcdn-a.akamaihd.net/steam/apps/256657159/movie480.webm?t=1447754699',\n",
       "    'max': 'http://steamcdn-a.akamaihd.net/steam/apps/256657159/movie_max.webm?t=1447754699'},\n",
       "   'highlight': True},\n",
       "  {'id': 256657131,\n",
       "   'name': \"Let's Explore The Consuming Shadow Insanity Edition\",\n",
       "   'thumbnail': 'https://steamcdn-a.akamaihd.net/steam/apps/256657131/movie.293x165.jpg?t=1448084878',\n",
       "   'webm': {'480': 'http://steamcdn-a.akamaihd.net/steam/apps/256657131/movie480.webm?t=1448084878',\n",
       "    'max': 'http://steamcdn-a.akamaihd.net/steam/apps/256657131/movie_max.webm?t=1448084878'},\n",
       "   'highlight': True}],\n",
       " 'recommendations': {'total': 215},\n",
       " 'achievements': {'total': 95,\n",
       "  'highlighted': [{'name': 'You Shall Not Pass',\n",
       "    'path': 'https://steamcdn-a.akamaihd.net/steamcommunity/public/images/apps/403830/7e8184b1349769abcebcc18ff95dd367921cc580.jpg'},\n",
       "   {'name': 'Ending A',\n",
       "    'path': 'https://steamcdn-a.akamaihd.net/steamcommunity/public/images/apps/403830/4a60025baf0e33554d562e22fb6ca3fabb1fe689.jpg'},\n",
       "   {'name': 'Ending B',\n",
       "    'path': 'https://steamcdn-a.akamaihd.net/steamcommunity/public/images/apps/403830/fd37b303f76f9b378d6eea08d6bdb5ed2aa22e85.jpg'},\n",
       "   {'name': 'Ending C',\n",
       "    'path': 'https://steamcdn-a.akamaihd.net/steamcommunity/public/images/apps/403830/16b5f2eb42914101bd5386827b66c7fe5e123578.jpg'},\n",
       "   {'name': 'Ending D',\n",
       "    'path': 'https://steamcdn-a.akamaihd.net/steamcommunity/public/images/apps/403830/0bcbca86886665f0ba16e6bc4d275f6655eabdcc.jpg'},\n",
       "   {'name': 'Ending E/F',\n",
       "    'path': 'https://steamcdn-a.akamaihd.net/steamcommunity/public/images/apps/403830/167742ad801c045015c1b89c74a2cf06384bc4d8.jpg'},\n",
       "   {'name': 'Ending G',\n",
       "    'path': 'https://steamcdn-a.akamaihd.net/steamcommunity/public/images/apps/403830/941145202d127648106318a1fb8344d3f8ce1085.jpg'},\n",
       "   {'name': 'The Wizard',\n",
       "    'path': 'https://steamcdn-a.akamaihd.net/steamcommunity/public/images/apps/403830/c8c87ed27b6077001f653b7b479493b7cda0b631.jpg'},\n",
       "   {'name': 'The Warrior',\n",
       "    'path': 'https://steamcdn-a.akamaihd.net/steamcommunity/public/images/apps/403830/d5505b784e0ab8536d4d6e683b35fef010bd4446.jpg'},\n",
       "   {'name': 'The Ministry Man',\n",
       "    'path': 'https://steamcdn-a.akamaihd.net/steamcommunity/public/images/apps/403830/3e58f0af9a6500bc1396d5410fba75354f85ae42.jpg'}]},\n",
       " 'release_date': {'coming_soon': False, 'date': 'Nov 20, 2015'},\n",
       " 'support_info': {'url': 'http://www.theconsumingshadow.com',\n",
       "  'email': 'theconsumingshadow@gmail.com'},\n",
       " 'background': 'https://steamcdn-a.akamaihd.net/steam/apps/403830/page_bg_generated_v6b.jpg?t=1448084885',\n",
       " 'content_descriptors': {'ids': [], 'notes': None}}"
      ]
     },
     "execution_count": 26,
     "metadata": {},
     "output_type": "execute_result"
    }
   ],
   "source": [
    "resp.json()[str(Id0)]['data']"
   ]
  },
  {
   "cell_type": "code",
   "execution_count": 29,
   "metadata": {},
   "outputs": [],
   "source": [
    "def parse_response_to_csv(query, usecols):\n",
    "    result = []\n",
    "    for col in usecols:\n",
    "        result.append(query[col])\n",
    "    return result.join(',')"
   ]
  },
  {
   "cell_type": "code",
   "execution_count": 28,
   "metadata": {},
   "outputs": [],
   "source": [
    "def scrape_data(appList, usecols,  pickleFile):\n",
    "    scraped = pickle.load(open(pickleFile, 'rb'))\n",
    "    for app in appList:\n",
    "        appId = app['appid']\n",
    "        if appId not in scraped:\n",
    "            time.sleep(1.6)\n",
    "            query = single_query(getAppIDUrl, appId).json()\n",
    "            if query[str(appId)]['data']['type'] == 'game':\n",
    "                result = parse_response_to_csv(query[str(appId)]['data'], usecols)\n",
    "            scraped.add(appId)\n",
    "    pickle.dump(scraped, open(pickleFile, 'wb'))\n",
    "    return result"
   ]
  },
  {
   "cell_type": "code",
   "execution_count": 30,
   "metadata": {},
   "outputs": [],
   "source": [
    "def fullScrape(fullAppList, usecols, pickleFile, outputFile):\n",
    "    output = open(outputFile, 'a')\n",
    "    for i in range(0,len(fullAppList), 200):\n",
    "        appList = fullAppList[i:i+200]\n",
    "        result = scrape_date(appList, usecols, pickleFile)\n",
    "        for r in result:\n",
    "            output.write(','.join(r))"
   ]
  },
  {
   "cell_type": "code",
   "execution_count": null,
   "metadata": {},
   "outputs": [],
   "source": [
    "fullScrape(allApps, usecols, 'scraped.p', 'raw_data.txt')"
   ]
  }
 ],
 "metadata": {
  "kernelspec": {
   "display_name": "Python 3",
   "language": "python",
   "name": "python3"
  },
  "language_info": {
   "codemirror_mode": {
    "name": "ipython",
    "version": 3
   },
   "file_extension": ".py",
   "mimetype": "text/x-python",
   "name": "python",
   "nbconvert_exporter": "python",
   "pygments_lexer": "ipython3",
   "version": "3.7.3"
  }
 },
 "nbformat": 4,
 "nbformat_minor": 2
}
